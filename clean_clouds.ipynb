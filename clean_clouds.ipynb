{
  "cells": [
    {
      "cell_type": "markdown",
      "metadata": {
        "id": "view-in-github",
        "colab_type": "text"
      },
      "source": [
        "<a href=\"https://colab.research.google.com/github/byteLm/rs/blob/main/clean_clouds.ipynb\" target=\"_parent\"><img src=\"https://colab.research.google.com/assets/colab-badge.svg\" alt=\"Open In Colab\"/></a>"
      ]
    },
    {
      "cell_type": "code",
      "execution_count": null,
      "metadata": {
        "id": "XiApUFXxPzqn"
      },
      "outputs": [],
      "source": [
        "\n",
        "#######################################\n",
        "#  Código Documentado: Detecção e Remoção de Nuvens em Imagens Multiespectrais\n",
        "#  Autores: Luccas M. T. Freitas, Celso Augusto Guimarães Santos, Leonardo Vidal Batista\n",
        "#  Versão: 2.0\n",
        "#####\n",
        "# Utilizado o DATASET: https://docs.sentinel-hub.com/api/latest/data/sentinel-2-l2a/\n",
        "# Utilizado como classificado o Scene Classification (SCL) disponibilizado pelo projeto Sentinel-2.\n",
        "# * SCL: Scene Classification\n",
        "# * NDWI: Normalized_Difference_Water_Vegetation_Index\n",
        "#####\n",
        "# * Pixels considerados poluição:\n",
        "#   * (255, 255, 255), (193, 193, 193), (100, 201, 255), (100, 50, 0), (0, 0, 0), (100, 51, 0),\n",
        "#   * (255, 151, 255), (47, 47, 47)\n",
        "#######################################\n",
        "\n",
        "# NOTAS VERSÃO 2.0:\n",
        "# * Código documentado\n",
        "# * Aplicação SUBSTITUIÇÃO POR DATA PRÓXIMA (SUBSTITUIR POR DATA ANTERIOR ou DATA PROXIMA)\n",
        "# * Aplicação SUBSTITUIÇÃO POR PIXEL PRÓXIMO (SUBSTITUIR POR PIXEL ANTERIOR ou PIXEL PROXIMO)\n",
        "# * NDWI (Normalized Difference Water Vegetation Index) - POR QUADRIMESTRE e por BIMESTRE\n",
        "\n"
      ]
    },
    {
      "cell_type": "markdown",
      "metadata": {
        "id": "T5joFqW7N-tH"
      },
      "source": [
        "## Conexão com o Google Drive (Arquivos)"
      ]
    },
    {
      "cell_type": "code",
      "execution_count": null,
      "metadata": {
        "colab": {
          "base_uri": "https://localhost:8080/"
        },
        "id": "0aeKpagholq-",
        "outputId": "5c3a832e-7a87-4203-9c4f-11626d37ed7f"
      },
      "outputs": [
        {
          "output_type": "stream",
          "name": "stdout",
          "text": [
            "Drive already mounted at /content/drive; to attempt to forcibly remount, call drive.mount(\"/content/drive\", force_remount=True).\n"
          ]
        }
      ],
      "source": [
        "from google.colab import drive\n",
        "drive.mount('/content/drive')"
      ]
    },
    {
      "cell_type": "markdown",
      "metadata": {
        "id": "LklrJSBLPFAm"
      },
      "source": [
        "## Bibliotecas Utilizadas:"
      ]
    },
    {
      "cell_type": "code",
      "source": [
        "!pip install rasterio\n"
      ],
      "metadata": {
        "id": "SaBRDj00WC1j",
        "colab": {
          "base_uri": "https://localhost:8080/"
        },
        "outputId": "1c327db0-58d4-44a6-ca73-6b06cce506ff"
      },
      "execution_count": null,
      "outputs": [
        {
          "output_type": "stream",
          "name": "stdout",
          "text": [
            "Requirement already satisfied: rasterio in /usr/local/lib/python3.10/dist-packages (1.3.10)\n",
            "Requirement already satisfied: affine in /usr/local/lib/python3.10/dist-packages (from rasterio) (2.4.0)\n",
            "Requirement already satisfied: attrs in /usr/local/lib/python3.10/dist-packages (from rasterio) (23.2.0)\n",
            "Requirement already satisfied: certifi in /usr/local/lib/python3.10/dist-packages (from rasterio) (2024.7.4)\n",
            "Requirement already satisfied: click>=4.0 in /usr/local/lib/python3.10/dist-packages (from rasterio) (8.1.7)\n",
            "Requirement already satisfied: cligj>=0.5 in /usr/local/lib/python3.10/dist-packages (from rasterio) (0.7.2)\n",
            "Requirement already satisfied: numpy in /usr/local/lib/python3.10/dist-packages (from rasterio) (1.25.2)\n",
            "Requirement already satisfied: snuggs>=1.4.1 in /usr/local/lib/python3.10/dist-packages (from rasterio) (1.4.7)\n",
            "Requirement already satisfied: click-plugins in /usr/local/lib/python3.10/dist-packages (from rasterio) (1.1.1)\n",
            "Requirement already satisfied: setuptools in /usr/local/lib/python3.10/dist-packages (from rasterio) (67.7.2)\n",
            "Requirement already satisfied: pyparsing>=2.1.6 in /usr/local/lib/python3.10/dist-packages (from snuggs>=1.4.1->rasterio) (3.1.2)\n"
          ]
        }
      ]
    },
    {
      "cell_type": "code",
      "execution_count": null,
      "metadata": {
        "id": "w8uW4d5yMo3L"
      },
      "outputs": [],
      "source": [
        "import rasterio as TIFF\n",
        "import random\n",
        "from PIL import Image as img\n",
        "import cv2\n",
        "from matplotlib import pyplot as plt\n",
        "import os\n",
        "import datetime\n",
        "import os\n",
        "import shutil\n",
        "import numpy as np\n",
        "from datetime import datetime as dt"
      ]
    },
    {
      "cell_type": "markdown",
      "source": [
        "## **Images**"
      ],
      "metadata": {
        "id": "1U3gJTBtXRzx"
      }
    },
    {
      "cell_type": "code",
      "source": [
        "def display_img(image_path):\n",
        "    # Open the image\n",
        "    with TIFF.open(image_path) as src:\n",
        "        # Read the bands\n",
        "        band1 = src.read(3)\n",
        "        band2 = src.read(2)\n",
        "        band3 = src.read(1)\n",
        "\n",
        "    # Stack bands\n",
        "    rgb = np.dstack((band1, band2, band3))\n",
        "\n",
        "    # Normalize bands into 0.0 - 1.0 scale\n",
        "    rgb_norm = (rgb - rgb.min()) / (rgb.max() - rgb.min())\n",
        "\n",
        "    # Display the image\n",
        "    plt.imshow(rgb_norm)\n"
      ],
      "metadata": {
        "id": "q3duhQ1xpTOu"
      },
      "execution_count": null,
      "outputs": []
    },
    {
      "cell_type": "markdown",
      "metadata": {
        "id": "hrxHF_kiP5fd"
      },
      "source": [
        "### O objeto 'Nuvens' irá conter todas as funções que serão utilizadas. As definições são dadas abaixo."
      ]
    },
    {
      "cell_type": "code",
      "execution_count": null,
      "metadata": {
        "id": "obzPFS--NkJB",
        "colab": {
          "base_uri": "https://localhost:8080/",
          "height": 408
        },
        "outputId": "ab9f9864-3b05-4dce-f6e5-3bc32d49c61e"
      },
      "outputs": [
        {
          "output_type": "error",
          "ename": "KeyboardInterrupt",
          "evalue": "",
          "traceback": [
            "\u001b[0;31m---------------------------------------------------------------------------\u001b[0m",
            "\u001b[0;31mOSError\u001b[0m                                   Traceback (most recent call last)",
            "\u001b[0;32m/usr/lib/python3.10/shutil.py\u001b[0m in \u001b[0;36mmove\u001b[0;34m(src, dst, copy_function)\u001b[0m\n\u001b[1;32m    815\u001b[0m     \u001b[0;32mtry\u001b[0m\u001b[0;34m:\u001b[0m\u001b[0;34m\u001b[0m\u001b[0;34m\u001b[0m\u001b[0m\n\u001b[0;32m--> 816\u001b[0;31m         \u001b[0mos\u001b[0m\u001b[0;34m.\u001b[0m\u001b[0mrename\u001b[0m\u001b[0;34m(\u001b[0m\u001b[0msrc\u001b[0m\u001b[0;34m,\u001b[0m \u001b[0mreal_dst\u001b[0m\u001b[0;34m)\u001b[0m\u001b[0;34m\u001b[0m\u001b[0;34m\u001b[0m\u001b[0m\n\u001b[0m\u001b[1;32m    817\u001b[0m     \u001b[0;32mexcept\u001b[0m \u001b[0mOSError\u001b[0m\u001b[0;34m:\u001b[0m\u001b[0;34m\u001b[0m\u001b[0;34m\u001b[0m\u001b[0m\n",
            "\u001b[0;31mOSError\u001b[0m: [Errno 18] Invalid cross-device link: '/content/drive/MyDrive/Seixas/original/SLC/2016/Seixas_20160906.png' -> '/content/seixas/2016/scl/Seixas_20160906.png'",
            "\nDuring handling of the above exception, another exception occurred:\n",
            "\u001b[0;31mKeyboardInterrupt\u001b[0m                         Traceback (most recent call last)",
            "\u001b[0;32m<ipython-input-11-fbf77e6cef09>\u001b[0m in \u001b[0;36m<cell line: 4>\u001b[0;34m()\u001b[0m\n\u001b[1;32m     10\u001b[0m            \u001b[0mos\u001b[0m\u001b[0;34m.\u001b[0m\u001b[0mmakedirs\u001b[0m\u001b[0;34m(\u001b[0m\u001b[0mdest_path\u001b[0m\u001b[0;34m,\u001b[0m \u001b[0mexist_ok\u001b[0m\u001b[0;34m=\u001b[0m\u001b[0;32mTrue\u001b[0m\u001b[0;34m)\u001b[0m\u001b[0;34m\u001b[0m\u001b[0;34m\u001b[0m\u001b[0m\n\u001b[1;32m     11\u001b[0m            \u001b[0;31m# Copy the file to the destination directory\u001b[0m\u001b[0;34m\u001b[0m\u001b[0;34m\u001b[0m\u001b[0m\n\u001b[0;32m---> 12\u001b[0;31m            \u001b[0mshutil\u001b[0m\u001b[0;34m.\u001b[0m\u001b[0mmove\u001b[0m\u001b[0;34m(\u001b[0m\u001b[0mos\u001b[0m\u001b[0;34m.\u001b[0m\u001b[0mpath\u001b[0m\u001b[0;34m.\u001b[0m\u001b[0mjoin\u001b[0m\u001b[0;34m(\u001b[0m\u001b[0mpath\u001b[0m\u001b[0;34m,\u001b[0m \u001b[0mstr\u001b[0m\u001b[0;34m(\u001b[0m\u001b[0myear\u001b[0m\u001b[0;34m)\u001b[0m\u001b[0;34m,\u001b[0m \u001b[0mfile\u001b[0m\u001b[0;34m)\u001b[0m\u001b[0;34m,\u001b[0m \u001b[0mdest_path\u001b[0m\u001b[0;34m)\u001b[0m\u001b[0;34m\u001b[0m\u001b[0;34m\u001b[0m\u001b[0m\n\u001b[0m",
            "\u001b[0;32m/usr/lib/python3.10/shutil.py\u001b[0m in \u001b[0;36mmove\u001b[0;34m(src, dst, copy_function)\u001b[0m\n\u001b[1;32m    834\u001b[0m             \u001b[0mrmtree\u001b[0m\u001b[0;34m(\u001b[0m\u001b[0msrc\u001b[0m\u001b[0;34m)\u001b[0m\u001b[0;34m\u001b[0m\u001b[0;34m\u001b[0m\u001b[0m\n\u001b[1;32m    835\u001b[0m         \u001b[0;32melse\u001b[0m\u001b[0;34m:\u001b[0m\u001b[0;34m\u001b[0m\u001b[0;34m\u001b[0m\u001b[0m\n\u001b[0;32m--> 836\u001b[0;31m             \u001b[0mcopy_function\u001b[0m\u001b[0;34m(\u001b[0m\u001b[0msrc\u001b[0m\u001b[0;34m,\u001b[0m \u001b[0mreal_dst\u001b[0m\u001b[0;34m)\u001b[0m\u001b[0;34m\u001b[0m\u001b[0;34m\u001b[0m\u001b[0m\n\u001b[0m\u001b[1;32m    837\u001b[0m             \u001b[0mos\u001b[0m\u001b[0;34m.\u001b[0m\u001b[0munlink\u001b[0m\u001b[0;34m(\u001b[0m\u001b[0msrc\u001b[0m\u001b[0;34m)\u001b[0m\u001b[0;34m\u001b[0m\u001b[0;34m\u001b[0m\u001b[0m\n\u001b[1;32m    838\u001b[0m     \u001b[0;32mreturn\u001b[0m \u001b[0mreal_dst\u001b[0m\u001b[0;34m\u001b[0m\u001b[0;34m\u001b[0m\u001b[0m\n",
            "\u001b[0;32m/usr/lib/python3.10/shutil.py\u001b[0m in \u001b[0;36mcopy2\u001b[0;34m(src, dst, follow_symlinks)\u001b[0m\n\u001b[1;32m    432\u001b[0m     \u001b[0;32mif\u001b[0m \u001b[0mos\u001b[0m\u001b[0;34m.\u001b[0m\u001b[0mpath\u001b[0m\u001b[0;34m.\u001b[0m\u001b[0misdir\u001b[0m\u001b[0;34m(\u001b[0m\u001b[0mdst\u001b[0m\u001b[0;34m)\u001b[0m\u001b[0;34m:\u001b[0m\u001b[0;34m\u001b[0m\u001b[0;34m\u001b[0m\u001b[0m\n\u001b[1;32m    433\u001b[0m         \u001b[0mdst\u001b[0m \u001b[0;34m=\u001b[0m \u001b[0mos\u001b[0m\u001b[0;34m.\u001b[0m\u001b[0mpath\u001b[0m\u001b[0;34m.\u001b[0m\u001b[0mjoin\u001b[0m\u001b[0;34m(\u001b[0m\u001b[0mdst\u001b[0m\u001b[0;34m,\u001b[0m \u001b[0mos\u001b[0m\u001b[0;34m.\u001b[0m\u001b[0mpath\u001b[0m\u001b[0;34m.\u001b[0m\u001b[0mbasename\u001b[0m\u001b[0;34m(\u001b[0m\u001b[0msrc\u001b[0m\u001b[0;34m)\u001b[0m\u001b[0;34m)\u001b[0m\u001b[0;34m\u001b[0m\u001b[0;34m\u001b[0m\u001b[0m\n\u001b[0;32m--> 434\u001b[0;31m     \u001b[0mcopyfile\u001b[0m\u001b[0;34m(\u001b[0m\u001b[0msrc\u001b[0m\u001b[0;34m,\u001b[0m \u001b[0mdst\u001b[0m\u001b[0;34m,\u001b[0m \u001b[0mfollow_symlinks\u001b[0m\u001b[0;34m=\u001b[0m\u001b[0mfollow_symlinks\u001b[0m\u001b[0;34m)\u001b[0m\u001b[0;34m\u001b[0m\u001b[0;34m\u001b[0m\u001b[0m\n\u001b[0m\u001b[1;32m    435\u001b[0m     \u001b[0mcopystat\u001b[0m\u001b[0;34m(\u001b[0m\u001b[0msrc\u001b[0m\u001b[0;34m,\u001b[0m \u001b[0mdst\u001b[0m\u001b[0;34m,\u001b[0m \u001b[0mfollow_symlinks\u001b[0m\u001b[0;34m=\u001b[0m\u001b[0mfollow_symlinks\u001b[0m\u001b[0;34m)\u001b[0m\u001b[0;34m\u001b[0m\u001b[0;34m\u001b[0m\u001b[0m\n\u001b[1;32m    436\u001b[0m     \u001b[0;32mreturn\u001b[0m \u001b[0mdst\u001b[0m\u001b[0;34m\u001b[0m\u001b[0;34m\u001b[0m\u001b[0m\n",
            "\u001b[0;32m/usr/lib/python3.10/shutil.py\u001b[0m in \u001b[0;36mcopyfile\u001b[0;34m(src, dst, follow_symlinks)\u001b[0m\n\u001b[1;32m    265\u001b[0m                     \u001b[0;32melif\u001b[0m \u001b[0m_USE_CP_SENDFILE\u001b[0m\u001b[0;34m:\u001b[0m\u001b[0;34m\u001b[0m\u001b[0;34m\u001b[0m\u001b[0m\n\u001b[1;32m    266\u001b[0m                         \u001b[0;32mtry\u001b[0m\u001b[0;34m:\u001b[0m\u001b[0;34m\u001b[0m\u001b[0;34m\u001b[0m\u001b[0m\n\u001b[0;32m--> 267\u001b[0;31m                             \u001b[0m_fastcopy_sendfile\u001b[0m\u001b[0;34m(\u001b[0m\u001b[0mfsrc\u001b[0m\u001b[0;34m,\u001b[0m \u001b[0mfdst\u001b[0m\u001b[0;34m)\u001b[0m\u001b[0;34m\u001b[0m\u001b[0;34m\u001b[0m\u001b[0m\n\u001b[0m\u001b[1;32m    268\u001b[0m                             \u001b[0;32mreturn\u001b[0m \u001b[0mdst\u001b[0m\u001b[0;34m\u001b[0m\u001b[0;34m\u001b[0m\u001b[0m\n\u001b[1;32m    269\u001b[0m                         \u001b[0;32mexcept\u001b[0m \u001b[0m_GiveupOnFastCopy\u001b[0m\u001b[0;34m:\u001b[0m\u001b[0;34m\u001b[0m\u001b[0;34m\u001b[0m\u001b[0m\n",
            "\u001b[0;32m/usr/lib/python3.10/shutil.py\u001b[0m in \u001b[0;36m_fastcopy_sendfile\u001b[0;34m(fsrc, fdst)\u001b[0m\n\u001b[1;32m    140\u001b[0m     \u001b[0;32mwhile\u001b[0m \u001b[0;32mTrue\u001b[0m\u001b[0;34m:\u001b[0m\u001b[0;34m\u001b[0m\u001b[0;34m\u001b[0m\u001b[0m\n\u001b[1;32m    141\u001b[0m         \u001b[0;32mtry\u001b[0m\u001b[0;34m:\u001b[0m\u001b[0;34m\u001b[0m\u001b[0;34m\u001b[0m\u001b[0m\n\u001b[0;32m--> 142\u001b[0;31m             \u001b[0msent\u001b[0m \u001b[0;34m=\u001b[0m \u001b[0mos\u001b[0m\u001b[0;34m.\u001b[0m\u001b[0msendfile\u001b[0m\u001b[0;34m(\u001b[0m\u001b[0moutfd\u001b[0m\u001b[0;34m,\u001b[0m \u001b[0minfd\u001b[0m\u001b[0;34m,\u001b[0m \u001b[0moffset\u001b[0m\u001b[0;34m,\u001b[0m \u001b[0mblocksize\u001b[0m\u001b[0;34m)\u001b[0m\u001b[0;34m\u001b[0m\u001b[0;34m\u001b[0m\u001b[0m\n\u001b[0m\u001b[1;32m    143\u001b[0m         \u001b[0;32mexcept\u001b[0m \u001b[0mOSError\u001b[0m \u001b[0;32mas\u001b[0m \u001b[0merr\u001b[0m\u001b[0;34m:\u001b[0m\u001b[0;34m\u001b[0m\u001b[0;34m\u001b[0m\u001b[0m\n\u001b[1;32m    144\u001b[0m             \u001b[0;31m# ...in oder to have a more informative exception.\u001b[0m\u001b[0;34m\u001b[0m\u001b[0;34m\u001b[0m\u001b[0m\n",
            "\u001b[0;31mKeyboardInterrupt\u001b[0m: "
          ]
        }
      ],
      "source": [
        "\n",
        "path = \"/content/drive/MyDrive/Seixas/original/SLC/\"\n",
        "list_years = [str(year) for year in range(1984, 2025)]\n",
        "\n",
        "for year in list_years:\n",
        "   for file in os.listdir(path + str(year)):\n",
        "       if(file.find(year) != -1 and file.find(\"png\") != -1 ):\n",
        "           # Construct the destination path\n",
        "           dest_path = f\"/content/seixas/{year}/scl/\"\n",
        "           # Create the destination directory if it doesn't exist\n",
        "           os.makedirs(dest_path, exist_ok=True)\n",
        "           # Copy the file to the destination directory\n",
        "           shutil.move(os.path.join(path, str(year), file), dest_path)\n"
      ]
    },
    {
      "cell_type": "code",
      "source": [
        "\n",
        "path = path = \"/content/drive/MyDrive/Seixas/original/6B/\"\n",
        "list_years = [str(year) for year in range(1984, 2025)]\n",
        "\n",
        "for year in list_years:\n",
        "   for file in os.listdir(path + str(year)):\n",
        "       if(file.find(year) != -1 and file.find(\"tif\") != -1 ):\n",
        "           # Construct the destination path\n",
        "           dest_path = f\"/content/seixas/{year}/6B/\"\n",
        "           # Create the destination directory if it doesn't exist\n",
        "           os.makedirs(dest_path, exist_ok=True)\n",
        "           # Copy the file to the destination directory\n",
        "           shutil.copy(os.path.join(path, str(year), file), dest_path)\n",
        "\n",
        "\n"
      ],
      "metadata": {
        "id": "AinIvwnPboG6"
      },
      "execution_count": null,
      "outputs": []
    },
    {
      "cell_type": "code",
      "source": [
        "with TIFF.open(\"/content/drive/MyDrive/Seixas/SCL/1984/seixas_19840610.png\") as img :\n",
        "        image = img.read()[0]\n",
        "        print(image.shape)"
      ],
      "metadata": {
        "colab": {
          "base_uri": "https://localhost:8080/"
        },
        "id": "VDvrgZxZKyb3",
        "outputId": "79b96243-f970-4487-eaa9-7691e642f235"
      },
      "execution_count": null,
      "outputs": [
        {
          "output_type": "stream",
          "name": "stdout",
          "text": [
            "(117, 45)\n"
          ]
        },
        {
          "output_type": "stream",
          "name": "stderr",
          "text": [
            "/usr/local/lib/python3.10/dist-packages/rasterio/__init__.py:304: NotGeoreferencedWarning: Dataset has no geotransform, gcps, or rpcs. The identity matrix will be returned.\n",
            "  dataset = DatasetReader(path, driver=driver, sharing=sharing, **kwargs)\n"
          ]
        }
      ]
    },
    {
      "cell_type": "markdown",
      "metadata": {
        "id": "YJwo1fzs_9gZ"
      },
      "source": [
        "# Código atual\n"
      ]
    },
    {
      "cell_type": "code",
      "execution_count": null,
      "metadata": {
        "id": "teHHQIoVID7v"
      },
      "outputs": [],
      "source": [
        "\n",
        "class BCL:\n",
        "    def __init__(self, img_dim, scl_path_i, path_6B_i, year_i, data_i, intern_reservoir, use_dec_tree):\n",
        "          self.intern_reservoir = intern_reservoir\n",
        "          self.width, self.height = img_dim\n",
        "          self.scl_path = scl_path_i\n",
        "          self.path_6B = path_6B_i\n",
        "          self.year = year_i\n",
        "          self.nuvem = [255]\n",
        "          self.idx_class_cloud = 0\n",
        "          # if int(year_i) >= 2013 and not use_dec_tree: # é landsat 8\n",
        "          #   self.idx_class_cloud = 17\n",
        "          # elif int(year_i) >= 2013 and use_dec_tree:\n",
        "          #   self.idx_class_cloud = 17\n",
        "          # else:\n",
        "          #   self.idx_class_cloud = 13\n",
        "\n",
        "\n",
        "          # arquivo que relaciona a data da imagem que foi utilizada e qual é a cor correspondente na mascara\n",
        "          self.color_file = open(f\"color_file_{data_i}.txt\", \"w\")\n",
        "          pass\n",
        "\n",
        "    def death(self):\n",
        "        del self\n",
        "\n",
        "    def pxHasCloud(self, pixelValue):\n",
        "        return pixelValue in self.nuvem\n",
        "\n",
        "    # Função que carrega em memórias as imagens que serão corrigidas\n",
        "    def getImageSCLandNDNWI(self, data, year):\n",
        "\n",
        "        for imageSCL in os.listdir(self.scl_path):\n",
        "            if(imageSCL.find(data)!=-1):\n",
        "                with TIFF.open(self.scl_path+imageSCL) as img :\n",
        "                    self.imgSCL = img.read()\n",
        "                    self.sclMETA = img.meta\n",
        "\n",
        "        for imageNDWI in os.listdir(self.path_6B):\n",
        "            if(imageNDWI.find(data)!=-1):\n",
        "                with TIFF.open(self.path_6B+imageNDWI) as img :\n",
        "                    self.imgNDWI = img.read()\n",
        "                    self.ndwiMETA=img.meta\n",
        "                    print(self.ndwiMETA)\n",
        "      # Essa imagem é grayscale, cada cor imagem que for usada será uma cor diferente\n",
        "        # sempre que um pixel de uma imagem for utilizado, essa máscara será marcada na mesma localização com a cor da imagem\n",
        "        self.mask = np.zeros((self.imgSCL.shape[1], self.imgSCL.shape[2]), dtype=np.uint8)\n",
        "\n",
        "    # Os pixels que já estiverem 'limpos' serão mantidos\n",
        "    # Aqueles que estão com nuvens ou sombras serão marcados em memória.\n",
        "    def alreadyClear(self):\n",
        "\n",
        "        # Cria uma matriz booleana onde True indica que o pixel está poluído\n",
        "        cloud_mask = np.isin(self.imgSCL[self.idx_class_cloud], self.nuvem)\n",
        "\n",
        "        # Cria uma máscara onde True indica que o pixel está limpo\n",
        "        clear_mask = ~cloud_mask\n",
        "\n",
        "        # Transfere os pixels limpos para o resultado\n",
        "        self.resultadoIMGSCL[0][clear_mask] = self.imgSCL[self.idx_class_cloud][clear_mask]\n",
        "        for i in range(6):\n",
        "            self.resultadoIMGNDWI[i][clear_mask] = self.imgNDWI[i][clear_mask]\n",
        "        self.mask[clear_mask] = [0]\n",
        "        self.color_file.write(\"0 is the actual color of the image\\n\")\n",
        "\n",
        "    # Função que carrega em memória todas as imagens do ano\n",
        "    def getAllImagesYear(self, year, data):\n",
        "        self.imagesSclOfTheYear = []\n",
        "        for image in os.listdir(self.scl_path):\n",
        "            if(image.find(data)!=-1):\n",
        "                continue\n",
        "            else:\n",
        "                self.imagesSclOfTheYear.append(image)\n",
        "\n",
        "    # Função responsável por receber uma data e\n",
        "    def relativeTime(self, init_date):\n",
        "\n",
        "        # Converte a data para o formato datetime\n",
        "        data1 = dt.strptime(init_date, '%Y%m%d')\n",
        "\n",
        "        self.relativeTimeList, self.pairImages = [], []\n",
        "\n",
        "        for imagem in self.imagesSclOfTheYear:\n",
        "            if imagem.endswith(\".png\"):\n",
        "              if init_date in imagem:\n",
        "                  continue\n",
        "\n",
        "              # Obtém a data da imagem\n",
        "              size_init_path = len(self.intern_reservoir + \"_\")\n",
        "              date = image[size_init_path:size_init_path+8]\n",
        "\n",
        "              print(f\"Date = {date}\")\n",
        "\n",
        "              formated_date = dt.strptime(date, '%Y%m%d')\n",
        "\n",
        "              # Calcula a distância entre as datas e salva na lista\n",
        "              self.relativeTimeList.append(abs((formated_date - data1).days))\n",
        "              self.pairImages.append(imagem)\n",
        "        return self.pairImages\n",
        "\n",
        "    # Nesta função é gerada a imagem\n",
        "    def subPorDataProx(self, year, just_that=False):\n",
        "\n",
        "        # Cada imagem será uma lista, em que o primeiro elemento é o nome da imagem\n",
        "        # e os demais são os pixels que podem ser utilizados para a correção temporal\n",
        "        self.elementos = [[] for _ in range(len(self.imagesSclOfTheYear))]\n",
        "\n",
        "        # Essa imagem é grayscale, cada cor imagem que for usada será uma cor diferente\n",
        "        # sempre que um pixel de uma imagem for utilizado, essa máscara será marcada na mesma localização com a cor da imagem\n",
        "        self.mask = np.zeros((self.imgSCL.shape[1], self.imgSCL.shape[2], 3), dtype=np.uint8)\n",
        "\n",
        "        # Pixels de valores altearios\n",
        "        color = 5\n",
        "\n",
        "        dict_color_image = {}\n",
        "\n",
        "        # Para cada slot\n",
        "        for i, _ in enumerate(self.elementos):\n",
        "\n",
        "            # Índice de imagem mais próxima\n",
        "            i_image_more_closer = self.relativeTimeList.index(min(self.relativeTimeList))\n",
        "            path_image_more_close_scl = self.scl_path + self.pairImages[i_image_more_closer]\n",
        "\n",
        "\n",
        "            # Filtro para obter a data da imagem\n",
        "            size_init_path = len(self.intern_reservoir + \"_\")\n",
        "            date = self.pairImages[i_image_more_closer][size_init_path:size_init_path+8]\n",
        "\n",
        "            for i6b in os.listdir(self.path_6B):\n",
        "                if(i6b.find(date)!=-1):\n",
        "                    with TIFF.open(self.path_6B+i6b) as tiff:\n",
        "                        image_more_close_6b = tiff.read()\n",
        "                        break\n",
        "\n",
        "\n",
        "            # A imagem mais próxima é carregada\n",
        "            with TIFF.open(path_image_more_close_scl) as tiff:\n",
        "                image_more_close_scl = tiff.read()\n",
        "                array_image_more_close_scl = image_more_close_scl[0]\n",
        "\n",
        "\n",
        "            # O primeiro elemento da lista é o nome da imagem\n",
        "            self.elementos[i].append(self.pairImages[i_image_more_closer])\n",
        "            self.relativeTimeList[i_image_more_closer] = 50000 # Aqui ela deixa de ser a mais próxima na próxima iteração\n",
        "\n",
        "            # Onde na imagem é pixel limpo e nos resultados ainda é -1, é substituído o pixel poluído pelo limpo\n",
        "            mask1 = np.logical_not(np.isin(array_image_more_close_scl, self.nuvem))\n",
        "            mask2 = self.resultadoIMGSCL[0] == -1\n",
        "\n",
        "            # se mask2 não tiver nenhum pixel -1, não há mais pixels para serem substituídos\n",
        "            if not np.any(mask2):\n",
        "                break\n",
        "\n",
        "            self.resultadoIMGSCL[0][(mask1 & mask2)] = array_image_more_close_scl[(mask1 & mask2)]\n",
        "            self.resultadoIMGNDWI[0][(mask1 & mask2)] = image_more_close_6b[0][(mask1 & mask2)]\n",
        "            self.resultadoIMGNDWI[1][(mask1 & mask2)] = image_more_close_6b[1][(mask1 & mask2)]\n",
        "            self.resultadoIMGNDWI[2][(mask1 & mask2)] = image_more_close_6b[2][(mask1 & mask2)]\n",
        "            self.resultadoIMGNDWI[3][(mask1 & mask2)] = image_more_close_6b[3][(mask1 & mask2)]\n",
        "            self.resultadoIMGNDWI[4][(mask1 & mask2)] = image_more_close_6b[4][(mask1 & mask2)]\n",
        "            self.resultadoIMGNDWI[5][(mask1 & mask2)] = image_more_close_6b[5][(mask1 & mask2)]\n",
        "\n",
        "            # Color[i] is like [255 255 255], so it is necessary to convert px format [255,255,255]\n",
        "            if(color < 255):\n",
        "                color += 5\n",
        "\n",
        "            self.mask[mask1 & mask2] = [color]\n",
        "            dict_color_image[str(color)] = self.pairImages[i_image_more_closer]\n",
        "\n",
        "\n",
        "\n",
        "\n",
        "        if(just_that):\n",
        "            # onde for -1, não foi possível substituir o pixel\n",
        "            # então será atribuído o valor original da imagem\n",
        "            self.resultadoIMGSCL[0][(self.resultadoIMGSCL[0] == -1)] = self.imgSCL[self.idx_class_cloud][(self.resultadoIMGSCL[0] == -1)]\n",
        "            # self.resultadoIMGNDWI[:, (self.resultadoIMGSCL[0] == -1)] = self.imgNDWI[:, (self.resultadoIMGSCL[0] == -1)]\n",
        "\n",
        "            self.mask[self.resultadoIMGSCL[0] == -1] = [0]\n",
        "\n",
        "            dict_color_image[str([0])] = \"could no be corrected\"\n",
        "\n",
        "        for key, value in dict_color_image.items():\n",
        "            self.color_file.write(f\"{key} is the color of {value}\\n\")\n",
        "\n",
        "    def singleImageCorrection(self, data, year,  output_path, just_sp=False):\n",
        "\n",
        "        # Obtém os objetos internos para serem corrigidos, a imagem SCL e a imagem NDWI\n",
        "        self.getImageSCLandNDNWI(data, year)\n",
        "\n",
        "         # os resultados são inicialmente arrays de -1\n",
        "        self.resultadoIMGSCL = np.full((1, self.imgSCL.shape[1], self.imgSCL.shape[2]), -1, dtype=np.int16)\n",
        "        self.resultadoIMGNDWI = np.full((self.imgNDWI.shape[0], self.imgNDWI.shape[1], self.imgNDWI.shape[2]), -1, dtype=np.int16)\n",
        "\n",
        "\n",
        "        # # Salva os pixels que estão poluídos\n",
        "        self.alreadyClear()\n",
        "        self.getAllImagesYear(year, data)\n",
        "\n",
        "        # Correção temporal\n",
        "        self.relativeTime(data)\n",
        "        self.subPorDataProx(year, just_sp)\n",
        "\n",
        "        # # self.correcaoPorBorda(3, 3)\n",
        "        self.resultadoIMGSCL = np.where(self.resultadoIMGSCL == -1, 0, self.resultadoIMGSCL)\n",
        "        self.resultadoIMGNDWI = np.where(self.resultadoIMGNDWI == -1, 0, self.resultadoIMGNDWI)\n",
        "        scl_output_path = os.path.join(output_path, \"SCL\")\n",
        "        a6b_output_path = os.path.join(output_path, \"6B\")\n",
        "\n",
        "        if not os.path.exists(scl_output_path):\n",
        "            os.makedirs(scl_output_path)\n",
        "        if not os.path.exists(a6b_output_path):\n",
        "            os.makedirs(a6b_output_path)\n",
        "\n",
        "        # Salvando novo arquivo com resultado e rasterio\n",
        "        cv2.imwrite(scl_output_path+\"/\"+data+\"_SCL.png\", self.resultadoIMGSCL[0])\n",
        "        with TIFF.open(a6b_output_path+\"/\"+data+\"_6B.tif\", 'w', **self.ndwiMETA) as dst:\n",
        "            dst.write(self.resultadoIMGNDWI)\n",
        "\n",
        "\n",
        "\n",
        "\n"
      ]
    },
    {
      "cell_type": "code",
      "execution_count": null,
      "metadata": {
        "id": "CYiKSs9oUCx-"
      },
      "outputs": [],
      "source": [
        "list_years = [str(year) for year in range(1984, 2025)]\n",
        "listReservPath = [\"Seixas\"]\n",
        "initial_path = \"/content/drive/MyDrive/Seixas/original/\"\n",
        "for internReservoir in listReservPath:\n",
        "\n",
        "    print(f\"Executando reservatório {internReservoir}.\")\n",
        "\n",
        "    for year in list_years:\n",
        "        scl_path = initial_path + \"/SCL/\" + year + \"/\"\n",
        "        path_6B = initial_path + \"/6B/\" + year + \"/\"\n",
        "\n",
        "        for image in os.listdir(scl_path):\n",
        "          if image.endswith(\".png\"):\n",
        "            print(f\"Executando o ano de {year}\")\n",
        "\n",
        "            # Greping img_size limits from sample.\n",
        "            img_sample_path = (os.listdir(scl_path)[0])\n",
        "            with TIFF.open(scl_path + img_sample_path) as tiff:\n",
        "                image_tiff = tiff.read()\n",
        "            size = image_tiff.shape[1], image_tiff.shape[2]\n",
        "            print(image_tiff.shape)\n",
        "\n",
        "            # obtenção da data\n",
        "            size_init_path = len(internReservoir + \"_\")\n",
        "            date = image[size_init_path:size_init_path+8]\n",
        "\n",
        "            print(date)\n",
        "\n",
        "            # Classe que será utilizada\n",
        "            i = BCL(size, scl_path, path_6B, year, date, internReservoir, use_dec_tree = False)\n",
        "\n",
        "            # Correção\n",
        "            output_path = f\"/content/drive/MyDrive/Seixas/Cleaned_with_QA/{year}/\"\n",
        "            i.singleImageCorrection(date, year, output_path, True)\n",
        "\n",
        "            cv2.imwrite(output_path + f\"mask_{image}.png\", i.mask)\n",
        "            i.death()"
      ]
    },
    {
      "cell_type": "code",
      "source": [
        "\n",
        "name = \"20150208\"\n",
        "brute_path = f'/content/drive/MyDrive/Seixas/6B/{name[:4]}/seixas_{name}.tif'\n",
        "brute_scl = f'/content/drive/MyDrive/Seixas/SCL/{name[:4]}/seixas_{name}.png'\n",
        "\n",
        "# display_img(brute_path)\n",
        "display_img(brute_scl)\n",
        "\n",
        "\n"
      ],
      "metadata": {
        "colab": {
          "base_uri": "https://localhost:8080/",
          "height": 434
        },
        "id": "Rnq_cmSK3X90",
        "outputId": "a85e68ea-8087-4707-a577-29cd2af22c25"
      },
      "execution_count": null,
      "outputs": [
        {
          "output_type": "display_data",
          "data": {
            "text/plain": [
              "<Figure size 640x480 with 1 Axes>"
            ],
            "image/png": "[encoded data removed]"
          },
          "metadata": {}
        }
      ]
    },
    {
      "cell_type": "code",
      "source": [
        "cleaned_6b = f'/content/drive/MyDrive/Seixas/Cleaned_with_QA/{name[:4]}/6B/{name}_6B.tif'\n",
        "cleaned_scl = f'/content/drive/MyDrive/Seixas/Cleaned_with_QA/{name[:4]}/SCL/{name}_SCL.png'\n",
        "display_img(cleaned_6b)\n",
        "# plt.imshow(cv2.imread(cleaned_scl))"
      ],
      "metadata": {
        "colab": {
          "base_uri": "https://localhost:8080/",
          "height": 434
        },
        "id": "gqv7lwMI4h4X",
        "outputId": "9919550c-34ef-431b-8450-66e047a74d1d"
      },
      "execution_count": null,
      "outputs": [
        {
          "output_type": "display_data",
          "data": {
            "text/plain": [
              "<Figure size 640x480 with 1 Axes>"
            ],
            "image/png": "[encoded data removed]"
          },
          "metadata": {}
        }
      ]
    }
  ],
  "metadata": {
    "colab": {
      "provenance": [],
      "mount_file_id": "1A5L7u37WGXEhkT0VJ7Foick9x5MxbajY",
      "authorship_tag": "ABX9TyNuNQejj9qWMekPBg0RrDfR",
      "include_colab_link": true
    },
    "kernelspec": {
      "display_name": "Python 3",
      "name": "python3"
    },
    "language_info": {
      "name": "python"
    }
  },
  "nbformat": 4,
  "nbformat_minor": 0
}