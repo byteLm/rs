{
  "cells": [
    {
      "cell_type": "markdown",
      "metadata": {
        "id": "view-in-github",
        "colab_type": "text"
      },
      "source": [
        "<a href=\"https://colab.research.google.com/github/byteLm/rs/blob/main/clean_clouds.ipynb\" target=\"_parent\"><img src=\"https://colab.research.google.com/assets/colab-badge.svg\" alt=\"Open In Colab\"/></a>"
      ]
    },
    {
      "cell_type": "markdown",
      "metadata": {
        "id": "T5joFqW7N-tH"
      },
      "source": [
        "## Conexão com o Google Drive (Arquivos)"
      ]
    },
    {
      "cell_type": "code",
      "execution_count": 2,
      "metadata": {
        "colab": {
          "base_uri": "https://localhost:8080/"
        },
        "id": "0aeKpagholq-",
        "outputId": "50b50eff-cf7c-42ca-c58b-71534e62c719"
      },
      "outputs": [
        {
          "output_type": "stream",
          "name": "stdout",
          "text": [
            "Drive already mounted at /content/drive; to attempt to forcibly remount, call drive.mount(\"/content/drive\", force_remount=True).\n"
          ]
        }
      ],
      "source": [
        "from google.colab import drive\n",
        "drive.mount('/content/drive')"
      ]
    },
    {
      "cell_type": "markdown",
      "metadata": {
        "id": "LklrJSBLPFAm"
      },
      "source": [
        "## Bibliotecas Utilizadas:"
      ]
    },
    {
      "cell_type": "code",
      "source": [
        "!pip install rasterio\n"
      ],
      "metadata": {
        "id": "SaBRDj00WC1j",
        "colab": {
          "base_uri": "https://localhost:8080/"
        },
        "outputId": "acf75de7-945a-4c06-fc01-9cb4211a4dbc"
      },
      "execution_count": 3,
      "outputs": [
        {
          "output_type": "stream",
          "name": "stdout",
          "text": [
            "Collecting rasterio\n",
            "  Downloading rasterio-1.4.3-cp311-cp311-manylinux_2_17_x86_64.manylinux2014_x86_64.whl.metadata (9.1 kB)\n",
            "Collecting affine (from rasterio)\n",
            "  Downloading affine-2.4.0-py3-none-any.whl.metadata (4.0 kB)\n",
            "Requirement already satisfied: attrs in /usr/local/lib/python3.11/dist-packages (from rasterio) (25.1.0)\n",
            "Requirement already satisfied: certifi in /usr/local/lib/python3.11/dist-packages (from rasterio) (2024.12.14)\n",
            "Requirement already satisfied: click>=4.0 in /usr/local/lib/python3.11/dist-packages (from rasterio) (8.1.8)\n",
            "Collecting cligj>=0.5 (from rasterio)\n",
            "  Downloading cligj-0.7.2-py3-none-any.whl.metadata (5.0 kB)\n",
            "Requirement already satisfied: numpy>=1.24 in /usr/local/lib/python3.11/dist-packages (from rasterio) (1.26.4)\n",
            "Collecting click-plugins (from rasterio)\n",
            "  Downloading click_plugins-1.1.1-py2.py3-none-any.whl.metadata (6.4 kB)\n",
            "Requirement already satisfied: pyparsing in /usr/local/lib/python3.11/dist-packages (from rasterio) (3.2.1)\n",
            "Downloading rasterio-1.4.3-cp311-cp311-manylinux_2_17_x86_64.manylinux2014_x86_64.whl (22.2 MB)\n",
            "\u001b[2K   \u001b[90m━━━━━━━━━━━━━━━━━━━━━━━━━━━━━━━━━━━━━━━━\u001b[0m \u001b[32m22.2/22.2 MB\u001b[0m \u001b[31m61.1 MB/s\u001b[0m eta \u001b[36m0:00:00\u001b[0m\n",
            "\u001b[?25hDownloading cligj-0.7.2-py3-none-any.whl (7.1 kB)\n",
            "Downloading affine-2.4.0-py3-none-any.whl (15 kB)\n",
            "Downloading click_plugins-1.1.1-py2.py3-none-any.whl (7.5 kB)\n",
            "Installing collected packages: cligj, click-plugins, affine, rasterio\n",
            "Successfully installed affine-2.4.0 click-plugins-1.1.1 cligj-0.7.2 rasterio-1.4.3\n"
          ]
        }
      ]
    },
    {
      "cell_type": "code",
      "execution_count": 4,
      "metadata": {
        "id": "w8uW4d5yMo3L"
      },
      "outputs": [],
      "source": [
        "import rasterio as TIFF\n",
        "import random\n",
        "from PIL import Image as img\n",
        "import cv2\n",
        "from matplotlib import pyplot as plt\n",
        "import os\n",
        "import datetime\n",
        "import os\n",
        "import shutil\n",
        "import numpy as np\n",
        "from datetime import datetime as dt"
      ]
    },
    {
      "cell_type": "markdown",
      "source": [
        "## **Organizando pastas para o esperado**\n",
        "Este notebook considera que os arquivos estão organizados da seguinte forma:\n",
        "- **seixas/6b** são imagens multiespectrais com todas as bandas disponíveis (aquelas que queremos corrigir).\n",
        "- **seixas/scl** são as respectivas máscaras binárias de nuvens destas imagens, que serão utilizadas na correção.\n",
        "\n",
        "\n",
        "Os dados podem ser encontrados [neste link](https://drive.google.com/drive/folders/1nDlJ8p9u8jwOSvXhDjoEofnoQ_oqBxl7?usp=drive_link)"
      ],
      "metadata": {
        "id": "1U3gJTBtXRzx"
      }
    },
    {
      "cell_type": "code",
      "source": [
        "def display_img(image_path):\n",
        "    # Open the image\n",
        "    with TIFF.open(image_path) as src:\n",
        "        # Read the bands\n",
        "        band1 = src.read(3)\n",
        "        band2 = src.read(2)\n",
        "        band3 = src.read(1)\n",
        "\n",
        "    # Stack bands\n",
        "    rgb = np.dstack((band1, band2, band3))\n",
        "\n",
        "    # Normalize bands into 0.0 - 1.0 scale\n",
        "    rgb_norm = (rgb - rgb.min()) / (rgb.max() - rgb.min())\n",
        "\n",
        "    # Display the image\n",
        "    plt.imshow(rgb_norm)\n"
      ],
      "metadata": {
        "id": "q3duhQ1xpTOu"
      },
      "execution_count": 5,
      "outputs": []
    },
    {
      "cell_type": "code",
      "source": [
        "# Lista de anos\n",
        "list_years = [str(year) for year in range(1984, 2025)]\n",
        "\n",
        "# Função para criar links simbólicos\n",
        "def create_symlinks(src_base_path, dest_base_path, file_extension, year):\n",
        "    for file in os.listdir(os.path.join(src_base_path, year)):\n",
        "        if year in file and file.endswith(file_extension):\n",
        "            dest_path = os.path.join(dest_base_path, year, \"scl\" if file_extension == \"png\" else \"6B\")\n",
        "            os.makedirs(dest_path, exist_ok=True)\n",
        "            src_file_path = os.path.join(src_base_path, year, file)\n",
        "            dest_file_path = os.path.join(dest_path, file)\n",
        "            if not os.path.exists(dest_file_path):  # Evita criar links simbólicos repetidos\n",
        "                os.symlink(src_file_path, dest_file_path)\n",
        "\n",
        "# Caminhos base\n",
        "scl_path = \"/content/drive/MyDrive/Seixas/original/SCL/\"\n",
        "six_b_path = \"/content/drive/MyDrive/Seixas/original/6B/\"\n",
        "\n",
        "# Processamento para cada ano\n",
        "for year in list_years:\n",
        "    create_symlinks(scl_path, \"/content/seixas\", \"png\", year)\n",
        "    create_symlinks(six_b_path, \"/content/seixas\", \"tif\", year)"
      ],
      "metadata": {
        "id": "2BS4MbC1MPD7"
      },
      "execution_count": 6,
      "outputs": []
    },
    {
      "cell_type": "code",
      "source": [
        "# with TIFF.open(\"/content/seixas/1985/scl/Seixas_19850205.png\") as img :\n",
        "#         image = img.read()[0]\n",
        "#         print(image.shape)\n"
      ],
      "metadata": {
        "colab": {
          "base_uri": "https://localhost:8080/"
        },
        "id": "VDvrgZxZKyb3",
        "outputId": "3423945c-b53a-44f4-c054-ad8d92921cda"
      },
      "execution_count": 7,
      "outputs": [
        {
          "output_type": "stream",
          "name": "stdout",
          "text": [
            "(82, 29)\n"
          ]
        },
        {
          "output_type": "stream",
          "name": "stderr",
          "text": [
            "/usr/local/lib/python3.11/dist-packages/rasterio/__init__.py:356: NotGeoreferencedWarning: Dataset has no geotransform, gcps, or rpcs. The identity matrix will be returned.\n",
            "  dataset = DatasetReader(path, driver=driver, sharing=sharing, **kwargs)\n"
          ]
        }
      ]
    },
    {
      "cell_type": "markdown",
      "metadata": {
        "id": "YJwo1fzs_9gZ"
      },
      "source": [
        "# **Remoção de Nuvens**\n"
      ]
    },
    {
      "cell_type": "code",
      "execution_count": 8,
      "metadata": {
        "id": "teHHQIoVID7v"
      },
      "outputs": [],
      "source": [
        "\n",
        "class BCL:\n",
        "    def __init__(self, img_dim, scl_path_i, path_6B_i, year_i, data_i, intern_reservoir, use_dec_tree):\n",
        "          self.intern_reservoir = intern_reservoir\n",
        "          self.width, self.height = img_dim\n",
        "          self.scl_path = scl_path_i\n",
        "          self.path_6B = path_6B_i\n",
        "          self.year = year_i\n",
        "          self.nuvem = [255]\n",
        "          self.idx_class_cloud = 0\n",
        "\n",
        "          # arquivo que relaciona a data da imagem que foi utilizada e qual é a cor correspondente na mascara\n",
        "          self.color_file = open(f\"color_file_{data_i}.txt\", \"w\")\n",
        "          pass\n",
        "\n",
        "    def death(self):\n",
        "        del self\n",
        "\n",
        "    def pxHasCloud(self, pixelValue):\n",
        "        return pixelValue in self.nuvem\n",
        "\n",
        "    # Função que carrega em memórias as imagens que serão corrigidas\n",
        "    def getImageSCLandNDNWI(self, data, year):\n",
        "\n",
        "        for imageSCL in os.listdir(self.scl_path):\n",
        "            if(imageSCL.find(data)!=-1):\n",
        "                with TIFF.open(self.scl_path+imageSCL) as img :\n",
        "                    self.imgSCL = img.read()\n",
        "                    self.sclMETA = img.meta\n",
        "\n",
        "        for imageNDWI in os.listdir(self.path_6B):\n",
        "            if(imageNDWI.find(data)!=-1):\n",
        "                with TIFF.open(self.path_6B+imageNDWI) as img :\n",
        "                    self.imgNDWI = img.read()\n",
        "                    self.ndwiMETA=img.meta\n",
        "                    print(self.ndwiMETA)\n",
        "      # Essa imagem é grayscale, cada cor imagem que for usada será uma cor diferente\n",
        "        # sempre que um pixel de uma imagem for utilizado, essa máscara será marcada na mesma localização com a cor da imagem\n",
        "        self.mask = np.zeros((self.imgSCL.shape[1], self.imgSCL.shape[2]), dtype=np.uint8)\n",
        "\n",
        "    # Os pixels que já estiverem 'limpos' serão mantidos\n",
        "    # Aqueles que estão com nuvens ou sombras serão marcados em memória.\n",
        "    def alreadyClear(self):\n",
        "\n",
        "        # Cria uma matriz booleana onde True indica que o pixel está poluído\n",
        "        cloud_mask = np.isin(self.imgSCL[self.idx_class_cloud], self.nuvem)\n",
        "\n",
        "        # Cria uma máscara onde True indica que o pixel está limpo\n",
        "        clear_mask = ~cloud_mask\n",
        "\n",
        "        # Transfere os pixels limpos para o resultado\n",
        "        self.resultadoIMGSCL[0][clear_mask] = self.imgSCL[self.idx_class_cloud][clear_mask]\n",
        "        for i in range(6):\n",
        "            self.resultadoIMGNDWI[i][clear_mask] = self.imgNDWI[i][clear_mask]\n",
        "        self.mask[clear_mask] = [0]\n",
        "        self.color_file.write(\"0 is the actual color of the image\\n\")\n",
        "\n",
        "    # Função que carrega em memória todas as imagens do ano\n",
        "    def getAllImagesYear(self, year, data):\n",
        "        self.imagesSclOfTheYear = []\n",
        "        for image in os.listdir(self.scl_path):\n",
        "            if(image.find(data)!=-1):\n",
        "                continue\n",
        "            else:\n",
        "                self.imagesSclOfTheYear.append(image)\n",
        "\n",
        "    # Função responsável por receber uma data e\n",
        "    def relativeTime(self, init_date):\n",
        "\n",
        "        # Converte a data para o formato datetime\n",
        "        data1 = dt.strptime(init_date, '%Y%m%d')\n",
        "\n",
        "        self.relativeTimeList, self.pairImages = [], []\n",
        "\n",
        "        for imagem in self.imagesSclOfTheYear:\n",
        "            if imagem.endswith(\".png\"):\n",
        "              if init_date in imagem:\n",
        "                  continue\n",
        "\n",
        "              # Obtém a data da imagem\n",
        "              size_init_path = len(self.intern_reservoir + \"_\")\n",
        "              date = image[size_init_path:size_init_path+8]\n",
        "\n",
        "              print(f\"Date = {date}\")\n",
        "\n",
        "              formated_date = dt.strptime(date, '%Y%m%d')\n",
        "\n",
        "              # Calcula a distância entre as datas e salva na lista\n",
        "              self.relativeTimeList.append(abs((formated_date - data1).days))\n",
        "              self.pairImages.append(imagem)\n",
        "        return self.pairImages\n",
        "\n",
        "    # Nesta função é gerada a imagem\n",
        "    def subPorDataProx(self, year, just_that=False):\n",
        "\n",
        "        # Cada imagem será uma lista, em que o primeiro elemento é o nome da imagem\n",
        "        # e os demais são os pixels que podem ser utilizados para a correção temporal\n",
        "        self.elementos = [[] for _ in range(len(self.imagesSclOfTheYear))]\n",
        "\n",
        "        # Essa imagem é grayscale, cada cor imagem que for usada será uma cor diferente\n",
        "        # sempre que um pixel de uma imagem for utilizado, essa máscara será marcada na mesma localização com a cor da imagem\n",
        "        self.mask = np.zeros((self.imgSCL.shape[1], self.imgSCL.shape[2], 3), dtype=np.uint8)\n",
        "\n",
        "        # Pixels de valores altearios\n",
        "        color = 5\n",
        "\n",
        "        dict_color_image = {}\n",
        "\n",
        "        # Para cada slot\n",
        "        for i, _ in enumerate(self.elementos):\n",
        "\n",
        "            # Índice de imagem mais próxima\n",
        "            i_image_more_closer = self.relativeTimeList.index(min(self.relativeTimeList))\n",
        "            path_image_more_close_scl = self.scl_path + self.pairImages[i_image_more_closer]\n",
        "\n",
        "\n",
        "            # Filtro para obter a data da imagem\n",
        "            size_init_path = len(self.intern_reservoir + \"_\")\n",
        "            date = self.pairImages[i_image_more_closer][size_init_path:size_init_path+8]\n",
        "\n",
        "            for i6b in os.listdir(self.path_6B):\n",
        "                if(i6b.find(date)!=-1):\n",
        "                    with TIFF.open(self.path_6B+i6b) as tiff:\n",
        "                        image_more_close_6b = tiff.read()\n",
        "                        break\n",
        "\n",
        "\n",
        "            # A imagem mais próxima é carregada\n",
        "            with TIFF.open(path_image_more_close_scl) as tiff:\n",
        "                image_more_close_scl = tiff.read()\n",
        "                array_image_more_close_scl = image_more_close_scl[0]\n",
        "\n",
        "\n",
        "            # O primeiro elemento da lista é o nome da imagem\n",
        "            self.elementos[i].append(self.pairImages[i_image_more_closer])\n",
        "            self.relativeTimeList[i_image_more_closer] = 50000 # Aqui ela deixa de ser a mais próxima na próxima iteração\n",
        "\n",
        "            # Onde na imagem é pixel limpo e nos resultados ainda é -1, é substituído o pixel poluído pelo limpo\n",
        "            mask1 = np.logical_not(np.isin(array_image_more_close_scl, self.nuvem))\n",
        "            mask2 = self.resultadoIMGSCL[0] == -1\n",
        "\n",
        "            # se mask2 não tiver nenhum pixel -1, não há mais pixels para serem substituídos\n",
        "            if not np.any(mask2):\n",
        "                break\n",
        "\n",
        "            self.resultadoIMGSCL[0][(mask1 & mask2)] = array_image_more_close_scl[(mask1 & mask2)]\n",
        "            self.resultadoIMGNDWI[0][(mask1 & mask2)] = image_more_close_6b[0][(mask1 & mask2)]\n",
        "            self.resultadoIMGNDWI[1][(mask1 & mask2)] = image_more_close_6b[1][(mask1 & mask2)]\n",
        "            self.resultadoIMGNDWI[2][(mask1 & mask2)] = image_more_close_6b[2][(mask1 & mask2)]\n",
        "            self.resultadoIMGNDWI[3][(mask1 & mask2)] = image_more_close_6b[3][(mask1 & mask2)]\n",
        "            self.resultadoIMGNDWI[4][(mask1 & mask2)] = image_more_close_6b[4][(mask1 & mask2)]\n",
        "            self.resultadoIMGNDWI[5][(mask1 & mask2)] = image_more_close_6b[5][(mask1 & mask2)]\n",
        "\n",
        "            # Color[i] is like [255 255 255], so it is necessary to convert px format [255,255,255]\n",
        "            if(color < 255):\n",
        "                color += 5\n",
        "\n",
        "            self.mask[mask1 & mask2] = [color]\n",
        "            dict_color_image[str(color)] = self.pairImages[i_image_more_closer]\n",
        "\n",
        "\n",
        "\n",
        "\n",
        "        if(just_that):\n",
        "            # onde for -1, não foi possível substituir o pixel\n",
        "            # então será atribuído o valor original da imagem\n",
        "            self.resultadoIMGSCL[0][(self.resultadoIMGSCL[0] == -1)] = self.imgSCL[self.idx_class_cloud][(self.resultadoIMGSCL[0] == -1)]\n",
        "            # self.resultadoIMGNDWI[:, (self.resultadoIMGSCL[0] == -1)] = self.imgNDWI[:, (self.resultadoIMGSCL[0] == -1)]\n",
        "\n",
        "            self.mask[self.resultadoIMGSCL[0] == -1] = [0]\n",
        "\n",
        "            dict_color_image[str([0])] = \"could no be corrected\"\n",
        "\n",
        "        for key, value in dict_color_image.items():\n",
        "            self.color_file.write(f\"{key} is the color of {value}\\n\")\n",
        "\n",
        "    def singleImageCorrection(self, data, year,  output_path, just_sp=False):\n",
        "\n",
        "        # Obtém os objetos internos para serem corrigidos, a imagem SCL e a imagem NDWI\n",
        "        self.getImageSCLandNDNWI(data, year)\n",
        "\n",
        "         # os resultados são inicialmente arrays de -1\n",
        "        self.resultadoIMGSCL = np.full((1, self.imgSCL.shape[1], self.imgSCL.shape[2]), -1, dtype=np.int16)\n",
        "        self.resultadoIMGNDWI = np.full((self.imgNDWI.shape[0], self.imgNDWI.shape[1], self.imgNDWI.shape[2]), -1, dtype=np.int16)\n",
        "\n",
        "\n",
        "        # # Salva os pixels que estão poluídos\n",
        "        self.alreadyClear()\n",
        "        self.getAllImagesYear(year, data)\n",
        "\n",
        "        # Correção temporal\n",
        "        self.relativeTime(data)\n",
        "        self.subPorDataProx(year, just_sp)\n",
        "\n",
        "        # # self.correcaoPorBorda(3, 3)\n",
        "        self.resultadoIMGSCL = np.where(self.resultadoIMGSCL == -1, 0, self.resultadoIMGSCL)\n",
        "        self.resultadoIMGNDWI = np.where(self.resultadoIMGNDWI == -1, 0, self.resultadoIMGNDWI)\n",
        "        scl_output_path = os.path.join(output_path, \"SCL\")\n",
        "        a6b_output_path = os.path.join(output_path, \"6B\")\n",
        "\n",
        "        if not os.path.exists(scl_output_path):\n",
        "            os.makedirs(scl_output_path)\n",
        "        if not os.path.exists(a6b_output_path):\n",
        "            os.makedirs(a6b_output_path)\n",
        "\n",
        "        # Salvando novo arquivo com resultado e rasterio\n",
        "        cv2.imwrite(scl_output_path+\"/\"+data+\"_SCL.png\", self.resultadoIMGSCL[0])\n",
        "        with TIFF.open(a6b_output_path+\"/\"+data+\"_6B.tif\", 'w', **self.ndwiMETA) as dst:\n",
        "            dst.write(self.resultadoIMGNDWI)\n",
        "\n",
        "\n",
        "\n",
        "\n"
      ]
    },
    {
      "cell_type": "code",
      "execution_count": null,
      "metadata": {
        "id": "CYiKSs9oUCx-"
      },
      "outputs": [],
      "source": [
        "list_years = [str(year) for year in range(1984, 2025)]\n",
        "listReservPath = [\"Seixas\"]\n",
        "initial_path = \"/content/drive/MyDrive/Seixas/original/\"\n",
        "for internReservoir in listReservPath:\n",
        "\n",
        "    print(f\"Executando reservatório {internReservoir}.\")\n",
        "\n",
        "    for year in list_years:\n",
        "        scl_path = initial_path + \"/SCL/\" + year + \"/\"\n",
        "        path_6B = initial_path + \"/6B/\" + year + \"/\"\n",
        "\n",
        "        for image in os.listdir(scl_path):\n",
        "          if image.endswith(\".png\"):\n",
        "            print(f\"Executando o ano de {year}\")\n",
        "\n",
        "            # Greping img_size limits from sample.\n",
        "            img_sample_path = (os.listdir(scl_path)[0])\n",
        "            with TIFF.open(scl_path + img_sample_path) as tiff:\n",
        "                image_tiff = tiff.read()\n",
        "            size = image_tiff.shape[1], image_tiff.shape[2]\n",
        "            print(image_tiff.shape)\n",
        "\n",
        "            # obtenção da data\n",
        "            size_init_path = len(internReservoir + \"_\")\n",
        "            date = image[size_init_path:size_init_path+8]\n",
        "\n",
        "            print(date)\n",
        "\n",
        "            # Classe que será utilizada\n",
        "            i = BCL(size, scl_path, path_6B, year, date, internReservoir, use_dec_tree = False)\n",
        "\n",
        "            # Correção\n",
        "            output_path = f\"/content/drive/MyDrive/Seixas/Cleaned_with_QA/{year}/\"\n",
        "            i.singleImageCorrection(date, year, output_path, True)\n",
        "\n",
        "            cv2.imwrite(output_path + f\"mask_{image}.png\", i.mask)\n",
        "            i.death()"
      ]
    },
    {
      "cell_type": "markdown",
      "source": [
        "# **Visualização**"
      ],
      "metadata": {
        "id": "POkCGz9bThrq"
      }
    },
    {
      "cell_type": "code",
      "source": [
        "\n",
        "name = \"19841219\"\n",
        "brute_path = f'/content/drive/MyDrive/Seixas/original/6B/{name[:4]}/Seixas_{name}.tif'\n",
        "brute_scl = f'/content/drive/MyDrive/Seixas/original/SCL/{name[:4]}/Seixas_{name}.png'\n",
        "\n",
        "display_img(brute_path)\n",
        "# display_img(brute_scl)\n",
        "\n",
        "\n"
      ],
      "metadata": {
        "colab": {
          "base_uri": "https://localhost:8080/",
          "height": 488
        },
        "id": "Rnq_cmSK3X90",
        "outputId": "b729f844-db8d-47f4-e6cf-35984cfb5fd1"
      },
      "execution_count": 16,
      "outputs": [
        {
          "output_type": "stream",
          "name": "stderr",
          "text": [
            "WARNING:rasterio._env:CPLE_AppDefined in Seixas_19841219.tif: TIFFReadDirectory:Sum of Photometric type-related color channels and ExtraSamples doesn't match SamplesPerPixel. Defining non-color channels as ExtraSamples.\n",
            "WARNING:rasterio._env:CPLE_AppDefined in TIFFReadDirectory:Sum of Photometric type-related color channels and ExtraSamples doesn't match SamplesPerPixel. Defining non-color channels as ExtraSamples.\n"
          ]
        },
        {
          "output_type": "display_data",
          "data": {
            "text/plain": [
              "<Figure size 640x480 with 1 Axes>"
            ],
            "image/png": "[encoded data removed]"
          },
          "metadata": {}
        }
      ]
    },
    {
      "cell_type": "code",
      "source": [
        "cleaned_6b = f'/content/drive/MyDrive/Seixas/Cleaned_with_QA/{name[:4]}/6B/{name}_6B.tif'\n",
        "cleaned_scl = f'/content/drive/MyDrive/Seixas/Cleaned_with_QA/{name[:4]}/SCL/{name}_SCL.png'\n",
        "display_img(cleaned_6b)\n",
        "# plt.imshow(cv2.imread(cleaned_scl))"
      ],
      "metadata": {
        "colab": {
          "base_uri": "https://localhost:8080/",
          "height": 433
        },
        "id": "gqv7lwMI4h4X",
        "outputId": "40a5e61a-cda1-4f9c-c9ab-aa72c053a670"
      },
      "execution_count": 17,
      "outputs": [
        {
          "output_type": "display_data",
          "data": {
            "text/plain": [
              "<Figure size 640x480 with 1 Axes>"
            ],
            "image/png": "[encoded data removed]"
          },
          "metadata": {}
        }
      ]
    }
  ],
  "metadata": {
    "colab": {
      "provenance": [],
      "mount_file_id": "https://github.com/byteLm/rs/blob/main/clean_clouds.ipynb",
      "authorship_tag": "ABX9TyOFt0N/K9S6X4C66Sr8sjP4",
      "include_colab_link": true
    },
    "kernelspec": {
      "display_name": "Python 3",
      "name": "python3"
    },
    "language_info": {
      "name": "python"
    }
  },
  "nbformat": 4,
  "nbformat_minor": 0
}